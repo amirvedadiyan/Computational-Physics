{
 "cells": [
  {
   "cell_type": "code",
   "execution_count": 70,
   "id": "d0fa8c57",
   "metadata": {},
   "outputs": [],
   "source": [
    "import numpy as np\n",
    "import scipy as sp\n",
    "import matplotlib.pyplot as plt\n",
    "from scipy.interpolate import interp1d"
   ]
  },
  {
   "cell_type": "markdown",
   "id": "02f00093",
   "metadata": {},
   "source": [
    "## $$\n",
    "M \\frac{d^2x}{dt^2} + kx = a\\frac{x^3}{6}\n",
    "$$"
   ]
  },
  {
   "cell_type": "markdown",
   "id": "2f9c3645",
   "metadata": {},
   "source": [
    "## initialization"
   ]
  },
  {
   "cell_type": "code",
   "execution_count": 529,
   "id": "2ce34e8b",
   "metadata": {
    "scrolled": true
   },
   "outputs": [],
   "source": [
    "M = 1 # mass\n",
    "k = 1 # spring constant\n",
    "a = 0.5 # constant\n",
    "V1 = 0.2 # interaction strength (coupling constant)\n",
    "hbar = 1\n",
    "# mesh grading\n",
    "start_x = -5\n",
    "dx = 0.2\n",
    "end_x = 5\n",
    "x = np.arange(start_x,end_x,dx)\n",
    "n = len(x)\n"
   ]
  },
  {
   "cell_type": "markdown",
   "id": "a1964677",
   "metadata": {},
   "source": [
    "## Define identity operator and transfer matrix"
   ]
  },
  {
   "cell_type": "code",
   "execution_count": 530,
   "id": "61eb3407",
   "metadata": {},
   "outputs": [],
   "source": [
    "Id = sp.sparse.csr_matrix(np.eye(n)) # single particle identity operator\n",
    "T = np.diag(np.ones(n-1),1) + np.diag([1],-(n-1))\n",
    "T = sp.sparse.csr_matrix(T)\n",
    "D1x = (-np.diag(np.ones(n),0) + np.diag(np.ones(n-1),1))/dx\n",
    "D1x[n-1,0] = 1/dx\n",
    "P1x = -1j*hbar*D1x\n",
    "P2x = (np.matmul(P1x,P1x.conj().T) + np.matmul(P1x.conj().T,P1x))/2"
   ]
  },
  {
   "cell_type": "markdown",
   "id": "60e7f52c",
   "metadata": {},
   "source": [
    "## Define $h_p^1,h_p^2$ and $n_i$"
   ]
  },
  {
   "cell_type": "code",
   "execution_count": 531,
   "id": "d4e320a7",
   "metadata": {},
   "outputs": [],
   "source": [
    "h_1p = -(T.T+T)\n",
    "#h1_p = P2x/(2*M)\n",
    "empty = sp.sparse.csr_matrix((n,n))\n",
    "n_1p = [None] * n\n",
    "for i1 in range(0,n):\n",
    "    n_1p[i1] = empty.copy()\n",
    "    n_1p[i1][i1,i1] = 1"
   ]
  },
  {
   "cell_type": "markdown",
   "id": "58e05eee",
   "metadata": {},
   "source": [
    "## Define harmonic potential"
   ]
  },
  {
   "cell_type": "code",
   "execution_count": 532,
   "id": "f589f6bc",
   "metadata": {},
   "outputs": [],
   "source": [
    "harmonic_potential = 0.5 * k * x**2\n",
    "harmonic_potential = np.diag(harmonic_potential)\n",
    "H = h_1p + harmonic_potential\n",
    "for i1 in range(0,n) :\n",
    "    H = H + V1* n_1p[i1] @ n_1p[i1]"
   ]
  },
  {
   "cell_type": "markdown",
   "id": "b8122c1d",
   "metadata": {},
   "source": [
    "## Define H"
   ]
  },
  {
   "cell_type": "code",
   "execution_count": 533,
   "id": "83516ca8",
   "metadata": {},
   "outputs": [],
   "source": [
    "H = (sp.sparse.kron(H,Id) + sp.sparse.kron(Id,H)) / 2  "
   ]
  },
  {
   "cell_type": "markdown",
   "id": "6c65a1ca",
   "metadata": {},
   "source": [
    "# Permutation Operator"
   ]
  },
  {
   "cell_type": "code",
   "execution_count": 534,
   "id": "8d5278ba",
   "metadata": {},
   "outputs": [],
   "source": [
    "index_12 = np.reshape(np.arange(1,n**2+1,1),(n,n))\n",
    "index_21 = np.ravel(np.reshape(index_12.T,(-1,1)))\n",
    "A = np.eye(n**2)\n",
    "P12 = A[:,index_21-1] "
   ]
  },
  {
   "cell_type": "markdown",
   "id": "35e977ec",
   "metadata": {},
   "source": [
    "## Find ($\\lambda$ = 1) 's of permutation operator -> Boson "
   ]
  },
  {
   "cell_type": "code",
   "execution_count": 535,
   "id": "e117a214",
   "metadata": {},
   "outputs": [],
   "source": [
    "eigenvalues_p , eigenvectors_p = np.linalg.eigh(P12)\n",
    "boson_index = eigenvalues_p == 1\n",
    "transfer_matrix =  eigenvectors_p[:,boson_index]"
   ]
  },
  {
   "cell_type": "code",
   "execution_count": 536,
   "id": "4efd68d1",
   "metadata": {},
   "outputs": [],
   "source": [
    "H = transfer_matrix.conjugate().transpose() @ H @ transfer_matrix"
   ]
  },
  {
   "cell_type": "code",
   "execution_count": 537,
   "id": "a9b810d3",
   "metadata": {},
   "outputs": [],
   "source": [
    "eigenvalues, eigenvectors = np.linalg.eigh(H)"
   ]
  },
  {
   "cell_type": "markdown",
   "id": "0b003de6",
   "metadata": {},
   "source": [
    "## Find eigen vector related to eigen value = 0  \n",
    "### because right hand side of equation is 0"
   ]
  },
  {
   "cell_type": "code",
   "execution_count": 538,
   "id": "e3e33982",
   "metadata": {},
   "outputs": [],
   "source": [
    "index = 0\n",
    "for i in range(len(eigenvalues)):\n",
    "    if eigenvalues[i] < 1e-10:\n",
    "        index = i"
   ]
  },
  {
   "cell_type": "code",
   "execution_count": 539,
   "id": "8706ef62",
   "metadata": {},
   "outputs": [],
   "source": [
    "ans = eigenvectors[:,index]"
   ]
  },
  {
   "cell_type": "markdown",
   "id": "8f763714",
   "metadata": {},
   "source": [
    "## Transfer $\\psi$ into original space"
   ]
  },
  {
   "cell_type": "code",
   "execution_count": 540,
   "id": "f5a643ad",
   "metadata": {},
   "outputs": [],
   "source": [
    "original_psi = np.matmul(transfer_matrix,ans)"
   ]
  },
  {
   "cell_type": "markdown",
   "id": "413a2e33",
   "metadata": {},
   "source": [
    "## Extract $|x>$ from $|\\psi> = |x> \\otimes |x>$"
   ]
  },
  {
   "cell_type": "code",
   "execution_count": 541,
   "id": "7063a907",
   "metadata": {},
   "outputs": [],
   "source": [
    "psi_matrix = original_psi.reshape(n,n)\n",
    "\n",
    "U, S, Vt = np.linalg.svd(psi_matrix)\n",
    "\n",
    "# Extract the first two columns of U and Vt to get the two 40x1 vectors\n",
    "vector1 = U[:, 0]\n",
    "vector2 = Vt[0, :]\n",
    "\n",
    "vector1 /= np.linalg.norm(vector1)\n",
    "vector2 /= np.linalg.norm(vector2)\n",
    "\n",
    "# Print the vectors\n",
    "#print(\"Vector 1:\", vector1)\n",
    "#print(\"Vector 2:\", vector2)"
   ]
  },
  {
   "cell_type": "markdown",
   "id": "a843c427",
   "metadata": {},
   "source": [
    "## Plotting"
   ]
  },
  {
   "cell_type": "code",
   "execution_count": 543,
   "id": "ea3fd3f8",
   "metadata": {},
   "outputs": [
    {
     "data": {
      "image/png": "[encoded data removed]",
      "text/plain": [
       "<Figure size 640x480 with 1 Axes>"
      ]
     },
     "metadata": {},
     "output_type": "display_data"
    }
   ],
   "source": [
    "x = np.linspace(start_x, end_x, num=n, endpoint=True)\n",
    "y = vector1\n",
    "xnew = np.linspace(start_x, end_x, num=n, endpoint=True)\n",
    "correlation_cubic = interp1d(x, y, kind='cubic')\n",
    "plt.plot(xnew, correlation_cubic(xnew), '--', label='cubic')\n",
    "plt.xlabel('t')\n",
    "plt.ylabel('x')\n",
    "plt.legend()\n",
    "plt.show()"
   ]
  },
  {
   "cell_type": "code",
   "execution_count": null,
   "id": "770b7497",
   "metadata": {},
   "outputs": [],
   "source": []
  }
 ],
 "metadata": {
  "kernelspec": {
   "display_name": "Python 3 (ipykernel)",
   "language": "python",
   "name": "python3"
  },
  "language_info": {
   "codemirror_mode": {
    "name": "ipython",
    "version": 3
   },
   "file_extension": ".py",
   "mimetype": "text/x-python",
   "name": "python",
   "nbconvert_exporter": "python",
   "pygments_lexer": "ipython3",
   "version": "3.10.9"
  }
 },
 "nbformat": 4,
 "nbformat_minor": 5
}
