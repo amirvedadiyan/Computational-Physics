{
 "cells": [
  {
   "cell_type": "markdown",
   "id": "0875e2c2",
   "metadata": {},
   "source": [
    "# Markov Chain Monte Carlo and the Metropolis Hasting Alogorithm"
   ]
  },
  {
   "cell_type": "markdown",
   "id": "6aa63fda",
   "metadata": {},
   "source": [
    "#### In the following sample code we examine the Metropolis-Hasting Monte Carlo algorithm to generate n_sampling x values "
   ]
  },
  {
   "cell_type": "markdown",
   "id": "65c420f8",
   "metadata": {},
   "source": [
    "### Initialization"
   ]
  },
  {
   "cell_type": "code",
   "execution_count": 1,
   "id": "ac1375d7",
   "metadata": {},
   "outputs": [],
   "source": [
    "import numpy as np\n",
    "import matplotlib.pyplot as plt\n",
    "import time"
   ]
  },
  {
   "cell_type": "markdown",
   "id": "3eadeff1",
   "metadata": {},
   "source": [
    "### Define distributions\n",
    "#### first distribution is the normal distribution with mean ($\\mu$) =  0 and variance ($\\sigma$) = 1 : $\\boxed{\\frac{1}{\\sqrt{2\\pi}}e^{-\\frac{x^2}{2}}}$\n"
   ]
  },
  {
   "cell_type": "code",
   "execution_count": 2,
   "id": "9aaa9d94",
   "metadata": {},
   "outputs": [],
   "source": [
    "first_distribution = lambda x: np.exp(-x**2/2)/np.sqrt(2*np.pi)"
   ]
  },
  {
   "cell_type": "markdown",
   "id": "dee3f3b2",
   "metadata": {},
   "source": [
    "#### second distribution : $\\boxed{w(x) = e^{-\\left| x \\right|}}$"
   ]
  },
  {
   "cell_type": "code",
   "execution_count": 3,
   "id": "bc9bdb00",
   "metadata": {},
   "outputs": [],
   "source": [
    "second_distribution = lambda x: np.exp(-np.abs(x))"
   ]
  },
  {
   "cell_type": "markdown",
   "id": "4785359e",
   "metadata": {},
   "source": [
    "#### third distribution : $\\boxed{w(x) = \\frac{1}{1+x^2}}$"
   ]
  },
  {
   "cell_type": "code",
   "execution_count": 4,
   "id": "929b5602",
   "metadata": {},
   "outputs": [],
   "source": [
    "third_distribution = lambda x: 1 / (1 + x**2)"
   ]
  },
  {
   "cell_type": "markdown",
   "id": "6b378e6d",
   "metadata": {},
   "source": [
    "#### forth distribution : $\\boxed{w(x) = \\cos{(x)}}$"
   ]
  },
  {
   "cell_type": "code",
   "execution_count": 38,
   "id": "4205177c",
   "metadata": {},
   "outputs": [],
   "source": [
    "forth_distribution = lambda x: 6*np.pi*np.cos(x)"
   ]
  },
  {
   "cell_type": "markdown",
   "id": "81d73f15",
   "metadata": {},
   "source": [
    "#### fifth distribution : $\\boxed{w(x) = \\cos{(x)} e^{-\\frac{x^2}{2}}}$"
   ]
  },
  {
   "cell_type": "code",
   "execution_count": 6,
   "id": "813552f5",
   "metadata": {},
   "outputs": [],
   "source": [
    "fifth_distribution = lambda x: np.cos(x)*np.exp(-(x**2) / 2)"
   ]
  },
  {
   "cell_type": "markdown",
   "id": "bdf947b0",
   "metadata": {},
   "source": [
    "#### sixth distribution : $\\boxed{w(x) = e^{-\\frac{x^2}{2}}}$"
   ]
  },
  {
   "cell_type": "code",
   "execution_count": 7,
   "id": "e8906c17",
   "metadata": {},
   "outputs": [],
   "source": [
    "sixth_distribution = lambda x: np.exp(-(x**2) / 2)"
   ]
  },
  {
   "cell_type": "markdown",
   "id": "d85c50fc",
   "metadata": {},
   "source": [
    "Define values : "
   ]
  },
  {
   "cell_type": "code",
   "execution_count": 8,
   "id": "c7cbb197",
   "metadata": {},
   "outputs": [],
   "source": [
    "dx = 10 ** -1\n",
    "n_sampling = 10 ** 7\n",
    "n_warmup = n_sampling//5"
   ]
  },
  {
   "cell_type": "markdown",
   "id": "c8c6f896",
   "metadata": {},
   "source": [
    "Metropolis Hasting Monte Carlo algorithm : "
   ]
  },
  {
   "cell_type": "code",
   "execution_count": 39,
   "id": "7b998800",
   "metadata": {},
   "outputs": [
    {
     "name": "stdout",
     "output_type": "stream",
     "text": [
      "Execution time: 272.67989587783813 seconds\n"
     ]
    }
   ],
   "source": [
    "start_time = time.time()\n",
    "# datas of all 6 distributions\n",
    "datas = np.zeros((6,n_sampling))\n",
    "datas[:,0] = np.random.randn()\n",
    "# normal distribution of proposal distribution ans normal gauusian distribution \n",
    "acceptance_probs = np.random.rand(n_sampling)\n",
    "proposals = np.random.randn(n_sampling) * dx\n",
    "\n",
    "# Metropolis-Hastings algorithm for distributions\n",
    "for distribution_index in range(0,6):\n",
    "        if distribution_index == 0:\n",
    "            dist = first_distribution\n",
    "        elif distribution_index == 1:\n",
    "            dist  = second_distribution\n",
    "        elif distribution_index == 2:\n",
    "            dist = third_distribution\n",
    "        elif distribution_index == 3:\n",
    "            dist = forth_distribution\n",
    "        elif distribution_index == 4:\n",
    "            dist = fifth_distribution\n",
    "        else:\n",
    "            dist = sixth_distribution    \n",
    "        for i in range(1,n_sampling):\n",
    "            last_step = datas[distribution_index][i-1]\n",
    "            new_step = last_step + proposals[i]\n",
    "            prob = dist(new_step) / dist(last_step)\n",
    "            if acceptance_probs[i] < prob:\n",
    "                datas[distribution_index][i] = new_step\n",
    "            else:\n",
    "                datas[distribution_index][i] = last_step\n",
    "                \n",
    "datas = datas[:,n_warmup:]\n",
    "end_time = time.time()\n",
    "execution_time = end_time - start_time\n",
    "print(\"Execution time:\", execution_time, \"seconds\")"
   ]
  },
  {
   "cell_type": "markdown",
   "id": "bc9330e6",
   "metadata": {},
   "source": [
    "plot datas : "
   ]
  },
  {
   "cell_type": "code",
   "execution_count": 46,
   "id": "1d290b94",
   "metadata": {},
   "outputs": [
    {
     "data": {
      "image/png": "[encoded data removed]",
      "text/plain": [
       "<Figure size 1000x600 with 1 Axes>"
      ]
     },
     "metadata": {},
     "output_type": "display_data"
    }
   ],
   "source": [
    "n_bins = 300\n",
    "h, c = np.histogram(datas[0], n_bins)\n",
    "\n",
    "plt.figure(figsize=(10, 6))\n",
    "plt.bar(c[:-1], h, width=c[1]-c[0], align='edge')\n",
    "plt.xlabel('Value')\n",
    "plt.ylabel('Frequency')\n",
    "plt.title('Histogram')\n",
    "plt.show()"
   ]
  },
  {
   "cell_type": "code",
   "execution_count": 41,
   "id": "af64428f",
   "metadata": {},
   "outputs": [],
   "source": [
    "delta_c = c[1] - c[0]\n",
    "x = np.arange(-5,5,delta_c)\n",
    "y = first_distribution(x)\n",
    "h = h * np.sum(y) / np.sum(h)"
   ]
  },
  {
   "cell_type": "code",
   "execution_count": 42,
   "id": "47e50e12",
   "metadata": {},
   "outputs": [
    {
     "data": {
      "image/png": "[encoded data removed]",
      "text/plain": [
       "<Figure size 1000x600 with 1 Axes>"
      ]
     },
     "metadata": {},
     "output_type": "display_data"
    }
   ],
   "source": [
    "plt.figure(figsize=(10, 6))\n",
    "plt.plot(x, y, '.', label='Data Points')\n",
    "# Plot histogram (c, h)\n",
    "plt.plot(c[:-1], h, '-', label='Histogram')\n",
    "plt.legend()\n",
    "plt.show()"
   ]
  },
  {
   "cell_type": "markdown",
   "id": "df46b83b",
   "metadata": {},
   "source": [
    "Calculate integrals :\n",
    "$$\n",
    "\\langle x \\rangle,\\;\\langle x^2 \\rangle,\\;\\langle \\cos{x} \\rangle,\\;\\langle \\cosh{x} \\rangle\n",
    "$$"
   ]
  },
  {
   "cell_type": "code",
   "execution_count": 43,
   "id": "71c3c7b3",
   "metadata": {},
   "outputs": [
    {
     "name": "stdout",
     "output_type": "stream",
     "text": [
      "normal distribution\n",
      "<x> = -0.007162289233840302\n",
      "<x^2> = 1.0061446164422905\n",
      "<cos(x)> = 0.6045242904916603\n",
      "<cosh(x)> = 1.6532527115940132\n"
     ]
    }
   ],
   "source": [
    "average_x_first_distribution = np.mean(datas[0])\n",
    "average_x2_first_distribution = np.mean(datas[0]**2)\n",
    "average_cosx_first_distribution = np.mean(np.cos(datas[0]))\n",
    "average_coshx_first_distribution = np.mean(np.cosh(datas[0]))\n",
    "print('normal distribution')\n",
    "print('<x> = ' + str(average_x_first_distribution))\n",
    "print('<x^2> = ' + str(average_x2_first_distribution))\n",
    "print('<cos(x)> = ' + str(average_cosx_first_distribution))\n",
    "print('<cosh(x)> = ' + str(average_coshx_first_distribution))"
   ]
  },
  {
   "cell_type": "markdown",
   "id": "01d1ed0f",
   "metadata": {},
   "source": [
    "$$\n",
    "\\langle x \\rangle,\\;\\langle x^2 \\rangle,\\;\\langle \\cos{10x} \\rangle\n",
    "$$"
   ]
  },
  {
   "cell_type": "code",
   "execution_count": 49,
   "id": "3486237e",
   "metadata": {},
   "outputs": [
    {
     "name": "stdout",
     "output_type": "stream",
     "text": [
      "f(x) = x,  w(x) = exp(-|x|) : -0.010757640207226284\n",
      "f(x) = x^2, w(x) = 1/(1+x^2) -> !!(divergent) : 7.527251652561805\n",
      "f(x) = x^2, w(x) = cos(x) -> !! Sign Problem(for [-6pi,6pi] i calculate it separately and its = 0) : 0.30790094260643597\n",
      "f(x) = x^2, w(x) = cos(x)exp(-x^2/2) -> !! Sign problem: 0.14271827473754473\n",
      "f(x) = cos(10x) , w(x) = exp(-x^2/2) : -0.0004082041876319587\n"
     ]
    }
   ],
   "source": [
    "average_x_second_distribution = np.mean(datas[1])/2\n",
    "average_x2_third_distribution = np.mean(datas[2]**2)/np.pi\n",
    "average_x2_forth_distribution = np.mean(datas[3]**2)/(np.sqrt(2*np.pi/np.e))\n",
    "average_x2_fifth_distribution = np.mean(datas[4]**2)/(np.sqrt(2*np.pi))\n",
    "average_cos10x_sixth_distribution = np.mean(np.cos(datas[5]*10))\n",
    "print('f(x) = x,  w(x) = exp(-|x|) : ' + str(average_x_second_distribution))\n",
    "print('f(x) = x^2, w(x) = 1/(1+x^2) -> !!(divergent) : ' + str(average_x2_third_distribution))\n",
    "print('f(x) = x^2, w(x) = cos(x) -> !! Sign Problem(for [-6pi,6pi] i calculate it separately and its = 0) : ' + str(average_x2_forth_distribution))\n",
    "print('f(x) = x^2, w(x) = cos(x)exp(-x^2/2) -> !! Sign problem: ' + str(average_x2_fifth_distribution))\n",
    "print('f(x) = cos(10x) , w(x) = exp(-x^2/2) : ' + str(average_cos10x_sixth_distribution))"
   ]
  }
 ],
 "metadata": {
  "kernelspec": {
   "display_name": "Python 3 (ipykernel)",
   "language": "python",
   "name": "python3"
  },
  "language_info": {
   "codemirror_mode": {
    "name": "ipython",
    "version": 3
   },
   "file_extension": ".py",
   "mimetype": "text/x-python",
   "name": "python",
   "nbconvert_exporter": "python",
   "pygments_lexer": "ipython3",
   "version": "3.10.9"
  }
 },
 "nbformat": 4,
 "nbformat_minor": 5
}
